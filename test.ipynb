{
 "cells": [
  {
   "cell_type": "code",
   "execution_count": 1,
   "metadata": {},
   "outputs": [],
   "source": [
    "import json\n",
    "import matplotlib.pyplot as plt\n",
    "\n",
    "from env.chooseenv import make\n",
    "from run_utils import get_players_and_action_space_list, run_game"
   ]
  },
  {
   "cell_type": "code",
   "execution_count": 2,
   "metadata": {},
   "outputs": [
    {
     "name": "stdout",
     "output_type": "stream",
     "text": [
      "Step10\n",
      "Step20\n",
      "Step30\n",
      "Step40\n",
      "Step50\n"
     ]
    }
   ],
   "source": [
    "game_type = 'snakes_1v1'\n",
    "game = make(game_type)\n",
    "game.max_step = 50\n",
    "log_mode = True\n",
    "policy_list = ['random'] * len(game.agent_nums)\n",
    "multi_part_agent_ids, action_spaces = get_players_and_action_space_list(game)\n",
    "run_game(game, game_type, multi_part_agent_ids, action_spaces, policy_list, log_mode, plot_game=False)"
   ]
  },
  {
   "cell_type": "code",
   "execution_count": null,
   "metadata": {},
   "outputs": [],
   "source": []
  }
 ],
 "metadata": {
  "kernelspec": {
   "display_name": "maai",
   "language": "python",
   "name": "python3"
  },
  "language_info": {
   "codemirror_mode": {
    "name": "ipython",
    "version": 3
   },
   "file_extension": ".py",
   "mimetype": "text/x-python",
   "name": "python",
   "nbconvert_exporter": "python",
   "pygments_lexer": "ipython3",
   "version": "3.9.16"
  },
  "orig_nbformat": 4
 },
 "nbformat": 4,
 "nbformat_minor": 2
}
